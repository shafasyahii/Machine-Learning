{
  "nbformat": 4,
  "nbformat_minor": 0,
  "metadata": {
    "colab": {
      "provenance": []
    },
    "kernelspec": {
      "name": "python3",
      "display_name": "Python 3"
    },
    "language_info": {
      "name": "python"
    }
  },
  "cells": [
    {
      "cell_type": "code",
      "execution_count": 5,
      "metadata": {
        "colab": {
          "base_uri": "https://localhost:8080/"
        },
        "id": "vDgX0xZaqjMW",
        "outputId": "71d70217-b410-4c29-bde3-1e574dc36241"
      },
      "outputs": [
        {
          "output_type": "stream",
          "name": "stdout",
          "text": [
            "5 Baris Pertama Data:\n",
            "   No  Age  Weight  Length    Sex  BMI DM HTN Current Smoker EX-Smoker  ...  \\\n",
            "0   1   53      90     175   Male    ?  n   Y              Y         n  ...   \n",
            "1   2   67      70     157  Fmale  NaN  n   Y              n         n  ...   \n",
            "2   3   54      54     164   Male  NaN  n   n              Y         n  ...   \n",
            "3   4   66      67     158  Fmale  NaN  n   Y              n         n  ...   \n",
            "4   5   50      87     153  Fmale  NaN  n   Y              n         n  ...   \n",
            "\n",
            "     K   Na    WBC Lymph Neut  PLT EF-TTE Region RWMA     VHD    Cath  \n",
            "0  4.7  141   5700    39   52  261     50           0       N     Cad  \n",
            "1  4.7  156   7700    38   55  165     40           4       N     Cad  \n",
            "2  4.7  139   7400    38   60  230     40           2    mild     Cad  \n",
            "3  4.4  142  13000    18   72    ?     55           0  Severe  Normal  \n",
            "4  4.0  140   9200    55   39  274     50           0  Severe  Normal  \n",
            "\n",
            "[5 rows x 56 columns]\n"
          ]
        }
      ],
      "source": [
        "import pandas as pd\n",
        "from sklearn.preprocessing import LabelEncoder, MinMaxScaler\n",
        "\n",
        "# a. Memanggil data\n",
        "dataset_path = '/content/CAD-Dataset.xlsx'\n",
        "\n",
        "df = pd.read_excel(dataset_path)  # Membaca file Excel\n",
        "\n",
        "# b. Menampilkan data\n",
        "print(\"5 Baris Pertama Data:\")\n",
        "print(df.head())"
      ]
    },
    {
      "cell_type": "code",
      "source": [
        "# Cek tipe data\n",
        "print(df.dtypes)"
      ],
      "metadata": {
        "colab": {
          "base_uri": "https://localhost:8080/"
        },
        "id": "ZRpscVfdrdEY",
        "outputId": "3e50c6f8-726f-447f-d30d-15531a02a58c"
      },
      "execution_count": 11,
      "outputs": [
        {
          "output_type": "stream",
          "name": "stdout",
          "text": [
            "No                         int64\n",
            "Age                        int64\n",
            "Weight                     int64\n",
            "Length                     int64\n",
            "Sex                        int64\n",
            "BMI                        int64\n",
            "DM                         int64\n",
            "HTN                        int64\n",
            "Current Smoker             int64\n",
            "EX-Smoker                  int64\n",
            "FH                         int64\n",
            "Obesity                    int64\n",
            "CRF                        int64\n",
            "CVA                        int64\n",
            "Airway disease             int64\n",
            "Thyroid Disease            int64\n",
            "CHF                        int64\n",
            "DLP                        int64\n",
            "BP                         int64\n",
            "PR                         int64\n",
            "Edema                      int64\n",
            "Weak Peripheral Pulse      int64\n",
            "Lung rales                 int64\n",
            "Systolic Murmur            int64\n",
            "Diastolic Murmur           int64\n",
            "Typical Chest Pain         int64\n",
            "Dyspnea                    int64\n",
            "Function Class             int64\n",
            "Atypical                   int64\n",
            "Nonanginal                 int64\n",
            "Exertional CP              int64\n",
            "LowTH Ang                  int64\n",
            "Q Wave                     int64\n",
            "St Elevation               int64\n",
            "St Depression              int64\n",
            "Tinversion                 int64\n",
            "LVH                        int64\n",
            "Poor R Progression         int64\n",
            "FBS                      float64\n",
            "CR                       float64\n",
            "TG                         int64\n",
            "LDL                        int64\n",
            "HDL                      float64\n",
            "BUN                        int64\n",
            "ESR                      float64\n",
            "HB                       float64\n",
            "K                        float64\n",
            "Na                         int64\n",
            "WBC                        int64\n",
            "Lymph                      int64\n",
            "Neut                       int64\n",
            "PLT                        int64\n",
            "EF-TTE                     int64\n",
            "Region RWMA                int64\n",
            "VHD                        int64\n",
            "Cath                       int64\n",
            "dtype: object\n"
          ]
        }
      ]
    },
    {
      "cell_type": "code",
      "source": [
        "# c. Preprocessing data: Memeriksa nilai kosong dan menangani jika ada\n",
        "print(\"\\nCek Nilai Kosong:\")\n",
        "print(df.isnull().sum())"
      ],
      "metadata": {
        "colab": {
          "base_uri": "https://localhost:8080/"
        },
        "id": "xbfRRmhMqq8n",
        "outputId": "8876e6cb-f512-4f8f-8af2-f7306557bdf5"
      },
      "execution_count": 2,
      "outputs": [
        {
          "output_type": "stream",
          "name": "stdout",
          "text": [
            "\n",
            "Cek Nilai Kosong:\n",
            "No                       0\n",
            "Age                      0\n",
            "Weight                   0\n",
            "Length                   0\n",
            "Sex                      0\n",
            "BMI                      0\n",
            "DM                       0\n",
            "HTN                      0\n",
            "Current Smoker           0\n",
            "EX-Smoker                0\n",
            "FH                       0\n",
            "Obesity                  0\n",
            "CRF                      0\n",
            "CVA                      0\n",
            "Airway disease           0\n",
            "Thyroid Disease          0\n",
            "CHF                      0\n",
            "DLP                      0\n",
            "BP                       0\n",
            "PR                       0\n",
            "Edema                    0\n",
            "Weak Peripheral Pulse    0\n",
            "Lung rales               0\n",
            "Systolic Murmur          0\n",
            "Diastolic Murmur         0\n",
            "Typical Chest Pain       0\n",
            "Dyspnea                  0\n",
            "Function Class           0\n",
            "Atypical                 0\n",
            "Nonanginal               1\n",
            "Exertional CP            0\n",
            "LowTH Ang                2\n",
            "Q Wave                   0\n",
            "St Elevation             0\n",
            "St Depression            0\n",
            "Tinversion               0\n",
            "LVH                      0\n",
            "Poor R Progression       0\n",
            "FBS                      0\n",
            "CR                       0\n",
            "TG                       0\n",
            "LDL                      0\n",
            "HDL                      0\n",
            "BUN                      0\n",
            "ESR                      0\n",
            "HB                       0\n",
            "K                        0\n",
            "Na                       0\n",
            "WBC                      0\n",
            "Lymph                    0\n",
            "Neut                     0\n",
            "PLT                      0\n",
            "EF-TTE                   0\n",
            "Region RWMA              0\n",
            "VHD                      0\n",
            "Cath                     0\n",
            "dtype: int64\n"
          ]
        }
      ]
    },
    {
      "cell_type": "code",
      "source": [
        "# Mengisi nilai kosong dengan median untuk numerik dan mode untuk kategorikal\n",
        "for col in df.columns:\n",
        "    if df[col].dtype == 'object':  # Jika kategorikal, isi dengan modus\n",
        "        df[col].fillna(df[col].mode()[0], inplace=True)\n",
        "    else:  # Jika numerik, isi dengan median\n",
        "        df[col].fillna(df[col].median(), inplace=True)"
      ],
      "metadata": {
        "colab": {
          "base_uri": "https://localhost:8080/"
        },
        "id": "Uhc2npyeqzZm",
        "outputId": "1ea925ad-b5e9-47c0-c2c1-cf4b9d59c49b"
      },
      "execution_count": 8,
      "outputs": [
        {
          "output_type": "stream",
          "name": "stderr",
          "text": [
            "<ipython-input-8-3f8eda0140ad>:6: FutureWarning: A value is trying to be set on a copy of a DataFrame or Series through chained assignment using an inplace method.\n",
            "The behavior will change in pandas 3.0. This inplace method will never work because the intermediate object on which we are setting values always behaves as a copy.\n",
            "\n",
            "For example, when doing 'df[col].method(value, inplace=True)', try using 'df.method({col: value}, inplace=True)' or df[col] = df[col].method(value) instead, to perform the operation inplace on the original object.\n",
            "\n",
            "\n",
            "  df[col].fillna(df[col].median(), inplace=True)\n",
            "<ipython-input-8-3f8eda0140ad>:4: FutureWarning: A value is trying to be set on a copy of a DataFrame or Series through chained assignment using an inplace method.\n",
            "The behavior will change in pandas 3.0. This inplace method will never work because the intermediate object on which we are setting values always behaves as a copy.\n",
            "\n",
            "For example, when doing 'df[col].method(value, inplace=True)', try using 'df.method({col: value}, inplace=True)' or df[col] = df[col].method(value) instead, to perform the operation inplace on the original object.\n",
            "\n",
            "\n",
            "  df[col].fillna(df[col].mode()[0], inplace=True)\n"
          ]
        }
      ]
    },
    {
      "cell_type": "code",
      "source": [
        "# d. Mengubah semua kolom menjadi numerik\n",
        "le = LabelEncoder()\n",
        "for col in df.columns:\n",
        "    if df[col].dtype == 'object' or df[col].apply(lambda x: isinstance(x, str)).any():  # Deteksi campuran tipe data\n",
        "        df[col] = df[col].astype(str)  # Konversi semua ke string dulu\n",
        "        df[col] = le.fit_transform(df[col])"
      ],
      "metadata": {
        "id": "6Gk-R4Hhq3E3"
      },
      "execution_count": 9,
      "outputs": []
    },
    {
      "cell_type": "code",
      "source": [
        "# e. Normalisasi data\n",
        "scaler = MinMaxScaler()\n",
        "df_scaled = pd.DataFrame(scaler.fit_transform(df), columns=df.columns)\n",
        "\n",
        "print(\"\\n5 Baris Pertama Setelah Normalisasi:\")\n",
        "print(df_scaled.head())"
      ],
      "metadata": {
        "colab": {
          "base_uri": "https://localhost:8080/"
        },
        "id": "2DGLH7R0q5xz",
        "outputId": "5417483c-cfc6-4bc7-d872-c84adfca7afd"
      },
      "execution_count": 10,
      "outputs": [
        {
          "output_type": "stream",
          "name": "stdout",
          "text": [
            "\n",
            "5 Baris Pertama Setelah Normalisasi:\n",
            "         No       Age    Weight    Length  Sex  BMI   DM  HTN  Current Smoker  \\\n",
            "0  0.000000  0.410714  0.583333  0.729167  1.0  0.0  1.0  0.0        0.333333   \n",
            "1  0.003311  0.660714  0.305556  0.354167  0.0  0.0  1.0  0.0        1.000000   \n",
            "2  0.006623  0.428571  0.083333  0.500000  1.0  0.0  1.0  1.0        0.333333   \n",
            "3  0.009934  0.642857  0.263889  0.375000  0.0  0.0  1.0  0.0        1.000000   \n",
            "4  0.013245  0.357143  0.541667  0.270833  0.0  0.0  1.0  0.0        1.000000   \n",
            "\n",
            "   EX-Smoker  ...         K        Na       WBC     Lymph      Neut       PLT  \\\n",
            "0        0.5  ...  0.472222  0.464286  0.139860  0.603774  0.350877  0.686567   \n",
            "1        0.5  ...  0.472222  1.000000  0.279720  0.584906  0.403509  0.074627   \n",
            "2        0.5  ...  0.472222  0.392857  0.258741  0.584906  0.491228  0.500000   \n",
            "3        0.5  ...  0.388889  0.500000  0.650350  0.207547  0.701754  1.000000   \n",
            "4        0.5  ...  0.277778  0.428571  0.384615  0.905660  0.122807  0.761194   \n",
            "\n",
            "     EF-TTE  Region RWMA       VHD  Cath  \n",
            "0  0.777778          0.0  0.333333   0.0  \n",
            "1  0.555556          1.0  0.333333   0.0  \n",
            "2  0.555556          0.5  1.000000   0.0  \n",
            "3  0.888889          0.0  0.666667   1.0  \n",
            "4  0.777778          0.0  0.666667   1.0  \n",
            "\n",
            "[5 rows x 56 columns]\n"
          ]
        }
      ]
    },
    {
      "cell_type": "code",
      "source": [],
      "metadata": {
        "id": "QXYZ3b_hrub-"
      },
      "execution_count": null,
      "outputs": []
    }
  ]
}